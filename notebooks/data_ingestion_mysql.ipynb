{
 "cells": [
  {
   "cell_type": "markdown",
   "metadata": {},
   "source": [
    "## Imports"
   ]
  },
  {
   "cell_type": "code",
   "execution_count": null,
   "metadata": {},
   "outputs": [],
   "source": [
    "import pyspark.sql.functions as F\n",
    "from dhzlib import DhzLib"
   ]
  },
  {
   "cell_type": "markdown",
   "metadata": {},
   "source": [
    "## Teste de Conexão - Banco MySQL"
   ]
  },
  {
   "cell_type": "code",
   "execution_count": null,
   "metadata": {},
   "outputs": [],
   "source": [
    "dhz = DhzLib()\n",
    "dhz.test_connection_mysql()"
   ]
  },
  {
   "cell_type": "markdown",
   "metadata": {},
   "source": [
    "## Lendo arquivos CSV e escrevendo dados no Banco MySQL"
   ]
  },
  {
   "cell_type": "code",
   "execution_count": null,
   "metadata": {},
   "outputs": [],
   "source": [
    "df = dhz.spark.read.csv('../data/*.csv', header=True, inferSchema=True)\n",
    "dhz.write_mysql(df, 'raw_capital_bikeshare')\n",
    "df.count()"
   ]
  },
  {
   "cell_type": "markdown",
   "metadata": {},
   "source": [
    "## Criando tabela na camada trusted"
   ]
  },
  {
   "cell_type": "code",
   "execution_count": null,
   "metadata": {},
   "outputs": [],
   "source": [
    "raw_df = dhz.read_mysql('raw_capital_bikeshare')"
   ]
  },
  {
   "cell_type": "code",
   "execution_count": null,
   "metadata": {},
   "outputs": [],
   "source": [
    "raw_df.printSchema()"
   ]
  },
  {
   "cell_type": "code",
   "execution_count": null,
   "metadata": {},
   "outputs": [],
   "source": [
    "raw_df.select(\n",
    "    F.col('started_at'),\n",
    "    F.from_utc_timestamp(F.col('started_at').cast('timestamp'), 'America/Sao_Paulo').alias('started_at_sp')\n",
    ").limit(10).show()"
   ]
  },
  {
   "cell_type": "code",
   "execution_count": null,
   "metadata": {},
   "outputs": [],
   "source": [
    "trusted_df = df.select(\n",
    "    F.col('ride_id').alias('ride_id'),\n",
    "    F.col('rideable_type').alias('rideable_type'),\n",
    "    F.from_utc_timestamp(F.col('started_at').cast('timestamp'), 'America/Sao_Paulo').alias('started_at'),\n",
    "    F.from_utc_timestamp(F.col('ended_at').cast('timestamp'), 'America/Sao_Paulo').alias('ended_at'),\n",
    "    F.col('start_station_name').alias('start_station_name'),\n",
    "    F.col('start_station_id').cast('int').alias('start_station_id'),\n",
    "    F.col('end_station_name').alias('end_station_name'),\n",
    "    F.col('end_station_id').cast('int').alias('end_station_id')\n",
    ")"
   ]
  },
  {
   "cell_type": "code",
   "execution_count": null,
   "metadata": {},
   "outputs": [],
   "source": [
    "dhz.write_mysql(trusted_df, 'tr_capital_bikeshare')"
   ]
  },
  {
   "cell_type": "markdown",
   "metadata": {},
   "source": [
    "## Gerando estatísticas para as tabelas"
   ]
  },
  {
   "cell_type": "code",
   "execution_count": null,
   "metadata": {},
   "outputs": [],
   "source": [
    "from pyspark.sql.types import StructType, StructField, StringType, DateType, LongType, DoubleType\n",
    "tables = {\n",
    "    'raw_capital_bikeshare': 'started_at',\n",
    "    'tr_capital_bikeshare': 'started_at'\n",
    "}\n",
    "stats_df = []\n",
    "schema = StructType([\n",
    "    StructField('table', StringType(), True),\n",
    "    StructField('date_column', StringType(), True),\n",
    "    StructField('min_date', DateType(), True),\n",
    "    StructField('max_date', DateType(), True),\n",
    "    StructField('total_rows', LongType(), True),\n",
    "    StructField('avg_rows_per_day', DoubleType(), True),\n",
    "    StructField('stddev_rows_per_day', DoubleType(), True),\n",
    "    StructField('min_rows_per_day', LongType(), True),\n",
    "    StructField('max_rows_per_day', LongType(), True),\n",
    "    StructField('stats_date', DateType(), True)\n",
    "])\n",
    "\n",
    "for table, column in tables.items():\n",
    "    df = dhz.read_mysql(table)\n",
    "    group_df = df.groupBy(F.col(column).cast('date').alias('date_')).agg(F.count(column).alias('rows'))\n",
    "    \n",
    "    stats = group_df.select(\n",
    "        F.min('date_').alias('min_date'),\n",
    "        F.max('date_').alias('max_date'),\n",
    "        F.sum('rows').alias('total_rows'),\n",
    "        F.avg('rows').alias('avg_rows_per_day'),\n",
    "        F.stddev('rows').alias('stddev_rows_per_day'),\n",
    "        F.min('rows').alias('min_rows_per_day'),\n",
    "        F.max('rows').alias('max_rows_per_day'),\n",
    "        F.current_timestamp().alias('stats_date')\n",
    "        )\n",
    "    stats = stats.withColumn('table', F.lit(table))\n",
    "    stats = stats.withColumn('date_column', F.lit(column))\n",
    "    stats = stats.select(\n",
    "        F.col('table'),\n",
    "        F.col('date_column'),\n",
    "        F.col('min_date'),\n",
    "        F.col('max_date'),\n",
    "        F.col('total_rows'),\n",
    "        F.col('avg_rows_per_day'),\n",
    "        F.col('stddev_rows_per_day'),\n",
    "        F.col('min_rows_per_day'),\n",
    "        F.col('max_rows_per_day'),\n",
    "        F.col('stats_date')\n",
    "    )\n",
    "    \n",
    "    if not stats_df:\n",
    "        stats_df = stats\n",
    "    else:\n",
    "        stats_df = stats_df.unionAll(stats)\n",
    "    "
   ]
  },
  {
   "cell_type": "code",
   "execution_count": null,
   "metadata": {},
   "outputs": [],
   "source": [
    "stats_df.printSchema()"
   ]
  },
  {
   "cell_type": "code",
   "execution_count": null,
   "metadata": {},
   "outputs": [],
   "source": []
  },
  {
   "cell_type": "code",
   "execution_count": null,
   "metadata": {},
   "outputs": [],
   "source": []
  },
  {
   "cell_type": "code",
   "execution_count": null,
   "metadata": {},
   "outputs": [],
   "source": []
  },
  {
   "cell_type": "code",
   "execution_count": null,
   "metadata": {},
   "outputs": [],
   "source": []
  },
  {
   "cell_type": "code",
   "execution_count": null,
   "metadata": {},
   "outputs": [],
   "source": []
  },
  {
   "cell_type": "code",
   "execution_count": null,
   "metadata": {},
   "outputs": [],
   "source": []
  },
  {
   "cell_type": "code",
   "execution_count": null,
   "metadata": {},
   "outputs": [],
   "source": []
  },
  {
   "cell_type": "markdown",
   "metadata": {},
   "source": [
    "## RASCUNHO"
   ]
  },
  {
   "cell_type": "code",
   "execution_count": null,
   "metadata": {},
   "outputs": [],
   "source": [
    "schema = StructType([\n",
    "    StructField('table', StringType(), True),\n",
    "    StructField('date_column', StringType(), True),\n",
    "    StructField('min_date', DateType(), True),\n",
    "    StructField('max_date', DateType(), True),\n",
    "    StructField('total_rows', LongType(), True),\n",
    "    StructField('avg_rows_per_day', DoubleType(), True),\n",
    "    StructField('stddev_rows_per_day', DoubleType(), True),\n",
    "    StructField('min_rows_per_day', LongType(), True),\n",
    "    StructField('max_rows_per_day', LongType(), True),\n",
    "    StructField('stats_date', DateType(), True)\n",
    "])\n",
    "\n",
    "table = 'tr_capital_bikeshare'\n",
    "column = 'started_at'\n",
    "df = dhz.read_mysql(table)\n",
    "group_df = df.groupBy(F.col(column).cast('date').alias('date_')).agg(F.count(column).alias('rows'))\n",
    "stats = group_df.select(\n",
    "    F.min('date_').alias('min_date'),\n",
    "    F.max('date_').alias('max_date'),\n",
    "    F.sum('rows').alias('total_rows'),\n",
    "    F.avg('rows').alias('avg_rows_per_day'),\n",
    "    F.stddev('rows').alias('stddev_rows_per_day'),\n",
    "    F.min('rows').alias('min_rows_per_day'),\n",
    "    F.max('rows').alias('max_rows_per_day'),\n",
    "    F.current_timestamp().alias('stats_date')\n",
    "    )\n",
    "stats = stats.withColumn('table', F.lit(table))\n",
    "stats = stats.withColumn('date_column', F.lit(column))\n",
    "stats = stats.select(\n",
    "    F.col('table'),\n",
    "    F.col('date_column'),\n",
    "    F.col('min_date'),\n",
    "    F.col('max_date'),\n",
    "    F.col('total_rows'),\n",
    "    F.col('avg_rows_per_day'),\n",
    "    F.col('stddev_rows_per_day'),\n",
    "    F.col('min_rows_per_day'),\n",
    "    F.col('max_rows_per_day'),\n",
    "    F.col('stats_date')\n",
    ")\n",
    "\n",
    "stats.show()\n",
    "stats = dhz.spark.createDataFrame(stats.toPandas(), schema)\n",
    "if not stats_df:\n",
    "    stats_df = stats\n",
    "else:\n",
    "    stats_df = stats_df.union(stats)"
   ]
  },
  {
   "cell_type": "code",
   "execution_count": null,
   "metadata": {},
   "outputs": [],
   "source": [
    "type(stats)"
   ]
  },
  {
   "cell_type": "code",
   "execution_count": null,
   "metadata": {},
   "outputs": [],
   "source": [
    "stats = stats.select(\n",
    "    F.col('table'),\n",
    "    F.col('date_column'),\n",
    "    F.col('min_date'),\n",
    "    F.col('max_date'),\n",
    "    F.col('total_rows'),\n",
    "    F.col('avg_rows_per_day'),\n",
    "    F.col('stddev_rows_per_day'),\n",
    "    F.col('min_rows_per_day'),\n",
    "    F.col('max_rows_per_day'),\n",
    "    F.col('stats_date')\n",
    ")\n",
    "stats.toPandas().dtypes"
   ]
  },
  {
   "cell_type": "markdown",
   "metadata": {},
   "source": [
    "## RASCUNHO"
   ]
  },
  {
   "cell_type": "code",
   "execution_count": null,
   "metadata": {},
   "outputs": [],
   "source": [
    "import os\n",
    "from dotenv import load_dotenv\n",
    "load_dotenv()"
   ]
  },
  {
   "cell_type": "code",
   "execution_count": null,
   "metadata": {},
   "outputs": [],
   "source": [
    "# spark = SparkSession.builder \\\n",
    "#         .appName('Connecting to MySQL') \\\n",
    "#         .getOrCreate()"
   ]
  },
  {
   "cell_type": "code",
   "execution_count": null,
   "metadata": {},
   "outputs": [],
   "source": [
    "\n",
    "url = os.getenv(\"MYSQL_URL\")\n",
    "mysql_properties = {\n",
    "    'user': os.getenv(\"MYSQL_USER\"),\n",
    "    'password': os.getenv(\"MYSQL_PASSWORD\")\n",
    "}"
   ]
  },
  {
   "cell_type": "code",
   "execution_count": null,
   "metadata": {},
   "outputs": [],
   "source": [
    "teste = spark.read.csv('../data/*.csv', header=True)"
   ]
  },
  {
   "cell_type": "code",
   "execution_count": null,
   "metadata": {},
   "outputs": [],
   "source": [
    "teste.count()"
   ]
  },
  {
   "cell_type": "code",
   "execution_count": null,
   "metadata": {},
   "outputs": [],
   "source": [
    "dhz.spark.conf.get(\"spark.sql.session.timeZone\")"
   ]
  }
 ],
 "metadata": {
  "kernelspec": {
   "display_name": "Python 3",
   "language": "python",
   "name": "python3"
  },
  "language_info": {
   "codemirror_mode": {
    "name": "ipython",
    "version": 3
   },
   "file_extension": ".py",
   "mimetype": "text/x-python",
   "name": "python",
   "nbconvert_exporter": "python",
   "pygments_lexer": "ipython3",
   "version": "3.10.9"
  }
 },
 "nbformat": 4,
 "nbformat_minor": 2
}

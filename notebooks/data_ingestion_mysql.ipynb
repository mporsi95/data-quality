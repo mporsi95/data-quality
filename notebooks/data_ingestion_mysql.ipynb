{
 "cells": [
  {
   "cell_type": "code",
   "execution_count": 1,
   "metadata": {},
   "outputs": [],
   "source": [
    "from pyspark.sql import SparkSession\n",
    "\n",
    "# os.environ['SPARK_HOME'] = 'C:\\spark\\spark-3.4.0-bin-hadoop3'\n",
    "# os.environ['JAVA_HOME'] = 'C:\\Program Files\\Java\\jre-1.8'"
   ]
  },
  {
   "cell_type": "code",
   "execution_count": 2,
   "metadata": {},
   "outputs": [],
   "source": [
    "spark = SparkSession.builder \\\n",
    "        .appName('Connecting to MySQL') \\\n",
    "        .config(\"spark.driver.extraClassPath\", \"C:\\Dev\\MySQL\\mysql-connector-j-8.0.23\\mysql-connector-j-8.0.23.jar\") \\\n",
    "        .getOrCreate()\n",
    "        # .config(\"spark.jars\", \"C:\\Dev\\MySQL\\mysql-connector-j-8.3.0\\mysql-connector-j-8.3.0.jar\") \\\n",
    "        # .config(\"spark.hadoop.home.dir\", \"C:/Hadoop/bin\") \\"
   ]
  },
  {
   "cell_type": "code",
   "execution_count": null,
   "metadata": {},
   "outputs": [],
   "source": [
    "spark.con"
   ]
  }
 ],
 "metadata": {
  "kernelspec": {
   "display_name": "Python 3",
   "language": "python",
   "name": "python3"
  },
  "language_info": {
   "codemirror_mode": {
    "name": "ipython",
    "version": 3
   },
   "file_extension": ".py",
   "mimetype": "text/x-python",
   "name": "python",
   "nbconvert_exporter": "python",
   "pygments_lexer": "ipython3",
   "version": "3.10.9"
  }
 },
 "nbformat": 4,
 "nbformat_minor": 2
}

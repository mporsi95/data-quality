{
 "cells": [
  {
   "cell_type": "markdown",
   "metadata": {},
   "source": [
    "## Imports"
   ]
  },
  {
   "cell_type": "code",
   "execution_count": 2,
   "metadata": {},
   "outputs": [
    {
     "name": "stdout",
     "output_type": "stream",
     "text": [
      "Creating Spark session\n",
      "SparkSession created at http://matheus:4040\n"
     ]
    }
   ],
   "source": [
    "from dhzlib import DhzLib\n",
    "dhz = DhzLib()"
   ]
  },
  {
   "cell_type": "markdown",
   "metadata": {},
   "source": [
    "## Leitura e transformação de dados"
   ]
  },
  {
   "cell_type": "code",
   "execution_count": 3,
   "metadata": {},
   "outputs": [],
   "source": [
    "files = ['../data/202401-capitalbikeshare-tripdata.csv', '../data/202402-capitalbikeshare-tripdata.csv']\n",
    "raw_df = dhz.spark.read.csv(files, header=True, inferSchema=True)\n",
    "raw_df.createOrReplaceTempView('raw_capital_bikeshare')"
   ]
  },
  {
   "cell_type": "code",
   "execution_count": 4,
   "metadata": {},
   "outputs": [
    {
     "name": "stdout",
     "output_type": "stream",
     "text": [
      "+----------------+-------------+-------------------+-------------------+------------------+----------------+-------------------+--------------+------------+-------------+-----------------+------------------+-------------+\n",
      "|         ride_id|rideable_type|         started_at|           ended_at|start_station_name|start_station_id|   end_station_name|end_station_id|   start_lat|    start_lng|          end_lat|           end_lng|member_casual|\n",
      "+----------------+-------------+-------------------+-------------------+------------------+----------------+-------------------+--------------+------------+-------------+-----------------+------------------+-------------+\n",
      "|748A93D7DE8A41CD| classic_bike|2024-01-25 15:49:59|2024-01-25 15:52:35|     1st & O St NW|           31519|      1st & L St NW|         31677|   38.908643|   -77.012365|        38.903819|        -77.011987|       member|\n",
      "|75CBFD136F06305B| classic_bike|2024-01-02 16:44:58|2024-01-02 16:53:25|     1st & O St NW|           31519|4th & College St NW|         31138|   38.908643|   -77.012365|38.92123296360907|-77.01813519001007|       member|\n",
      "|0536C9720F87E04C| classic_bike|2024-01-24 15:40:15|2024-01-24 15:43:55|     1st & O St NW|           31519|      1st & L St NW|         31677|   38.908643|   -77.012365|        38.903819|        -77.011987|       member|\n",
      "|9E17390C218783B5| classic_bike|2024-01-04 15:35:00|2024-01-04 15:37:35|     1st & O St NW|           31519|      1st & L St NW|         31677|   38.908643|   -77.012365|        38.903819|        -77.011987|       member|\n",
      "|00727D0E773CDFF7|electric_bike|2024-01-05 12:27:58|2024-01-05 12:35:40|     1st & O St NW|           31519|     10th & G St NW|         31274|38.908689976|-77.012316585|38.89824328774852|-77.02623546123505|       casual|\n",
      "+----------------+-------------+-------------------+-------------------+------------------+----------------+-------------------+--------------+------------+-------------+-----------------+------------------+-------------+\n",
      "only showing top 5 rows\n",
      "\n",
      "None\n"
     ]
    }
   ],
   "source": [
    "tr_df = raw_df.select(\n",
    "    raw_df.ride_id.alias('ride_id'),\n",
    "    raw_df.rideable_type.alias('rideable_type'),\n",
    "    dhz.F_.from_utc_timestamp(raw_df.started_at.cast('timestamp'), 'America/Sao_Paulo').alias('started_at'),\n",
    "    dhz.F_.from_utc_timestamp(raw_df.ended_at.cast('timestamp'), 'America/Sao_Paulo').alias('ended_at'),\n",
    "    raw_df.start_station_name.alias('start_station_name'),\n",
    "    raw_df.start_station_id.cast('int').alias('start_station_id'),\n",
    "    raw_df.end_station_name.alias('end_station_name'),\n",
    "    raw_df.end_station_id.cast('int').alias('end_station_id'),\n",
    "    raw_df.start_lat.cast('float').alias('start_lat'),\n",
    "    raw_df.start_lng.cast('float').alias('start_lng'),\n",
    "    raw_df.end_lat.cast('float').alias('end_lat'),\n",
    "    raw_df.end_lng.cast('float').alias('end_lng'),\n",
    "    raw_df.member_casual.alias('member_casual')\n",
    ")\n",
    "\n",
    "tr_df.createOrReplaceTempView('tr_capital_bikeshare')\n",
    "print(raw_df.show(5))"
   ]
  },
  {
   "cell_type": "markdown",
   "metadata": {},
   "source": [
    "## Testes de Data Quality"
   ]
  },
  {
   "cell_type": "code",
   "execution_count": null,
   "metadata": {},
   "outputs": [],
   "source": [
    "# Verificação de integridade dos dados em um intervalo específico\n",
    "lower_bound = dhz.date_(2024, 1, 16)\n",
    "upper_bound = dhz.date_(2024, 1, 31)\n",
    "date_column = 'started_at'\n",
    "table = 'tr_capital_bikeshare'\n",
    "dhz.check_interval_integrity(table, date_column, lower_bound, upper_bound)"
   ]
  },
  {
   "cell_type": "code",
   "execution_count": 3,
   "metadata": {},
   "outputs": [
    {
     "name": "stdout",
     "output_type": "stream",
     "text": [
      "Data read from MySQL\n",
      "Data read from MySQL\n",
      "Data written to MySQL\n"
     ]
    }
   ],
   "source": [
    "# Geração de tabela com estatísticas das tabelas desejadas\n",
    "tables = {\n",
    "    'raw_capital_bikeshare': 'started_at',\n",
    "    'tr_capital_bikeshare': 'started_at'\n",
    "}\n",
    "dhz.generate_stats_table(tables)\n"
   ]
  },
  {
   "cell_type": "code",
   "execution_count": 6,
   "metadata": {},
   "outputs": [
    {
     "name": "stdout",
     "output_type": "stream",
     "text": [
      "+---------+--------------------+-----------+\n",
      "|namespace|           tableName|isTemporary|\n",
      "+---------+--------------------+-----------+\n",
      "|         |raw_capital_bikes...|       true|\n",
      "|         |tr_capital_bikeshare|       true|\n",
      "+---------+--------------------+-----------+\n",
      "\n"
     ]
    }
   ],
   "source": [
    "dhz.spark.sql('SHOW TABLES').show()"
   ]
  },
  {
   "cell_type": "code",
   "execution_count": null,
   "metadata": {},
   "outputs": [],
   "source": []
  },
  {
   "cell_type": "code",
   "execution_count": null,
   "metadata": {},
   "outputs": [],
   "source": []
  },
  {
   "cell_type": "code",
   "execution_count": null,
   "metadata": {},
   "outputs": [],
   "source": []
  },
  {
   "cell_type": "code",
   "execution_count": null,
   "metadata": {},
   "outputs": [],
   "source": []
  },
  {
   "cell_type": "markdown",
   "metadata": {},
   "source": [
    "## RASCUNHO"
   ]
  },
  {
   "cell_type": "code",
   "execution_count": null,
   "metadata": {},
   "outputs": [],
   "source": [
    "tr_df.filter(F.col('started_at').cast('date').between(lower_bound, upper_bound)) \\\n",
    "    .select(F.col('started_at').cast('date')).distinct().orderBy('started_at',ascending=False).show()"
   ]
  },
  {
   "cell_type": "code",
   "execution_count": null,
   "metadata": {},
   "outputs": [],
   "source": [
    "pd.date_range(start=lower_bound,\n",
    "              end=upper_bound,\n",
    "              freq='d').map(lambda x: datetime.date(x)).tolist()"
   ]
  },
  {
   "cell_type": "code",
   "execution_count": null,
   "metadata": {},
   "outputs": [],
   "source": [
    "filtered_df = tr_df.filter(F.col('started_at').between(lower_bound, upper_bound))"
   ]
  },
  {
   "cell_type": "code",
   "execution_count": null,
   "metadata": {},
   "outputs": [],
   "source": [
    "filtered_df.select(F.col('started_at').cast('date')).distinct().orderBy('started_at', ascending=False).toPandas()['started_at'].tolist()"
   ]
  },
  {
   "cell_type": "code",
   "execution_count": null,
   "metadata": {},
   "outputs": [],
   "source": [
    "dict1 = set(filtered_df.select(F.col('started_at').cast('date')).distinct().toPandas()['started_at'].tolist())\n",
    "dict2 = set(pd.date_range(start=lower_bound,\n",
    "              end=upper_bound,\n",
    "              freq='d').map(lambda x: datetime.date(x)).tolist())\n",
    "dict1 == dict2"
   ]
  },
  {
   "cell_type": "code",
   "execution_count": null,
   "metadata": {},
   "outputs": [],
   "source": [
    "dict1.symmetric_difference(dict2)"
   ]
  },
  {
   "cell_type": "code",
   "execution_count": null,
   "metadata": {},
   "outputs": [],
   "source": [
    "\n",
    "        "
   ]
  },
  {
   "cell_type": "code",
   "execution_count": null,
   "metadata": {},
   "outputs": [],
   "source": [
    "check_interval_integrity(1,tr_df, 'started_at', lower_bound, upper_bound)\n"
   ]
  },
  {
   "cell_type": "code",
   "execution_count": null,
   "metadata": {},
   "outputs": [],
   "source": [
    "upper_bound"
   ]
  },
  {
   "cell_type": "code",
   "execution_count": null,
   "metadata": {},
   "outputs": [],
   "source": [
    "filtered_df = tr_df.filter(F.col('started_at').between(lower_bound, upper_bound))\n"
   ]
  },
  {
   "cell_type": "code",
   "execution_count": null,
   "metadata": {},
   "outputs": [],
   "source": [
    "filtered_df.select(F.col('started_at').cast('date')).distinct().count()"
   ]
  },
  {
   "cell_type": "code",
   "execution_count": null,
   "metadata": {},
   "outputs": [],
   "source": [
    "tr_df.filter(F.col('started_at').between(lower_bound, upper_bound)) \\\n",
    "    .select(F.col('started_at').cast('date')).distinct().count()"
   ]
  },
  {
   "cell_type": "code",
   "execution_count": null,
   "metadata": {},
   "outputs": [],
   "source": [
    "from pyspark.sql import functions as F"
   ]
  },
  {
   "cell_type": "code",
   "execution_count": null,
   "metadata": {},
   "outputs": [],
   "source": [
    "def check_ingestion_day(df, date_column, day):\n",
    "    return df.filter(F.col(date_column).cast('date') == day).count()"
   ]
  },
  {
   "cell_type": "code",
   "execution_count": null,
   "metadata": {},
   "outputs": [],
   "source": [
    "check_ingestion_day(tr_df, 'started_at', dhz.date_(2023, 3, 16))"
   ]
  },
  {
   "cell_type": "code",
   "execution_count": null,
   "metadata": {},
   "outputs": [],
   "source": []
  }
 ],
 "metadata": {
  "kernelspec": {
   "display_name": "Python 3",
   "language": "python",
   "name": "python3"
  },
  "language_info": {
   "codemirror_mode": {
    "name": "ipython",
    "version": 3
   },
   "file_extension": ".py",
   "mimetype": "text/x-python",
   "name": "python",
   "nbconvert_exporter": "python",
   "pygments_lexer": "ipython3",
   "version": "3.10.9"
  }
 },
 "nbformat": 4,
 "nbformat_minor": 2
}

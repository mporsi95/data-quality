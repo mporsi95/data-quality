{
 "cells": [
  {
   "cell_type": "markdown",
   "metadata": {},
   "source": [
    "## Imports"
   ]
  },
  {
   "cell_type": "code",
   "execution_count": 1,
   "metadata": {},
   "outputs": [
    {
     "name": "stdout",
     "output_type": "stream",
     "text": [
      "Creating Spark session\n",
      "SparkSession created at http://matheus:4040\n",
      "Temporary tables created\n"
     ]
    }
   ],
   "source": [
    "from dhzlib import DhzLib\n",
    "dhz = DhzLib()"
   ]
  },
  {
   "cell_type": "markdown",
   "metadata": {},
   "source": [
    "## Testes de Data Quality"
   ]
  },
  {
   "cell_type": "code",
   "execution_count": null,
   "metadata": {},
   "outputs": [],
   "source": [
    "dhz.spark.read.table('tr_capital_bikeshare').printSchema()\n",
    "df = dhz.spark.read.table('tr_capital_bikeshare')"
   ]
  },
  {
   "cell_type": "code",
   "execution_count": null,
   "metadata": {},
   "outputs": [],
   "source": [
    "# Verificação de integridade dos dados em um intervalo específico\n",
    "lower_bound = dhz.date_(2023, 12, 15)\n",
    "upper_bound = dhz.date_(2024, 1, 5)\n",
    "date_column = 'started_at'\n",
    "table = 'tr_capital_bikeshare'\n",
    "dhz.check_interval_integrity(table, date_column, lower_bound, upper_bound)"
   ]
  },
  {
   "cell_type": "code",
   "execution_count": null,
   "metadata": {},
   "outputs": [],
   "source": [
    "# Geração de tabela com estatísticas das tabelas desejadas\n",
    "tables = {\n",
    "    'raw_capital_bikeshare': 'started_at',\n",
    "    'tr_capital_bikeshare': 'started_at'\n",
    "}\n",
    "dhz.generate_stats_table(tables)\n",
    "dhz.spark.sql('select * from tr_data_quality_stats').show()"
   ]
  },
  {
   "cell_type": "code",
   "execution_count": null,
   "metadata": {},
   "outputs": [],
   "source": [
    "# Verificação de atualização de dados\n",
    "dhz.check_if_updated('tr_capital_bikeshare', 'started_at', dhz.date_(2024, 1, 25))"
   ]
  },
  {
   "cell_type": "code",
   "execution_count": 2,
   "metadata": {},
   "outputs": [
    {
     "name": "stdout",
     "output_type": "stream",
     "text": [
      " Nome da Coluna         Status       Outliers\n",
      "  rideable_type             OK              0\n",
      "  member_casual             OK              0\n"
     ]
    }
   ],
   "source": [
    "# Verificação de valores válidos\n",
    "valid_values = {\n",
    "    'rideable_type': ['classic_bike', 'electric_bike'],\n",
    "    'member_casual': ['casual', 'member']\n",
    "}\n",
    "dhz.check_if_valid('tr_capital_bikeshare', valid_values)"
   ]
  },
  {
   "cell_type": "code",
   "execution_count": null,
   "metadata": {},
   "outputs": [],
   "source": [
    "# Check 01 - Dados Atualizados\n",
    "# previousDay = 1;\n",
    "# dataLimit = dhzlib.getDataLimit(previousDay, dhzlib.TimeEnum.Day)\n",
    "# dhzlib.qa.checkIfUpdated('dhauz_general_catalog.dhzqa.tr_bikeshare', dataLimit) \n",
    "    ## se for detectado que a tabela não posusi dados mais recenter que a data limite informa, então a tabela estará desatualizada e um email deve ser enviado.\n",
    "\n",
    "# Check 02 - Dados Válidops\n",
    "# validStatList = {'MG', 'SP', 'BA', etc...}\n",
    "# dhzlib.qa.checkIfValid('dhauz_general_catalog.dhzqa.tr_bikeshare', 'state', validStatList) \n",
    "\n",
    "# Check 03 - Volumetria Válida - Geral\n",
    "# AvgWeeklyRowsQtd = 15.000\n",
    "# dhzlib.qa.checkIfVolumeValid('dhauz_general_catalog.dhzqa.tr_bikeshare', AvgWeeklyRowsQtd, 'time_start', dhzlib.TimeEnum.Week) "
   ]
  },
  {
   "cell_type": "code",
   "execution_count": 2,
   "metadata": {},
   "outputs": [],
   "source": [
    "def check_if_valid(table: str, valid_values: dict, schema: str = None):\n",
    "    check_functions = {\n",
    "        'string': dhz.check_if_valid_string\n",
    "    }\n",
    "    results = []\n",
    "    table_path = f\"{schema}.{table}\" if schema else table\n",
    "    df = dhz.spark.read.table(table_path)\n",
    "    table_dtypes = df.dtypes\n",
    "    for column in valid_values.keys():\n",
    "        column_dtype = [dtype for col, dtype in table_dtypes if col == column][0]\n",
    "\n",
    "        if column_dtype not in check_functions.keys():\n",
    "            raise ValueError(f\"Data type {column_dtype} not supported\")\n",
    "        \n",
    "        status = check_functions[column_dtype](column, valid_values[column], df)\n",
    "        results.append([column, status])\n",
    "\n",
    "    print(results)\n",
    "    headers = [\"Column Name\", \"Status\"]\n",
    "    format_row = \"{:>12}\" * (len(headers) + 1)\n",
    "\n",
    "    \n",
    "    format_row = \"{:>15}\" * (len(headers))\n",
    "    print(format_row.format(*headers))\n",
    "\n",
    "\n",
    "    for _, status in zip(headers, results):\n",
    "        print(format_row.format(*status))\n",
    "    return None\n",
    "            \n",
    "def check_if_valid_string(column: str, valid_values: list, df):\n",
    "    invalid_values = df.filter(~df[column].isin(valid_values)).count()\n",
    "    if invalid_values > 0:\n",
    "        return 'Invalid'\n",
    "    return 'Valid'"
   ]
  },
  {
   "cell_type": "code",
   "execution_count": 3,
   "metadata": {},
   "outputs": [
    {
     "name": "stdout",
     "output_type": "stream",
     "text": [
      "[['rideable_type', 'Valid'], ['member_casual', 'Valid']]\n",
      "    Column Name         Status\n",
      "  rideable_type          Valid\n",
      "  member_casual          Valid\n"
     ]
    }
   ],
   "source": [
    "valid_values = {\n",
    "    'rideable_type': ['classic_bike', 'electric_bike'],\n",
    "    'member_casual': ['casual', 'member']\n",
    "}\n",
    "check_if_valid('tr_capital_bikeshare', valid_values)"
   ]
  },
  {
   "cell_type": "code",
   "execution_count": null,
   "metadata": {},
   "outputs": [],
   "source": []
  },
  {
   "cell_type": "markdown",
   "metadata": {},
   "source": [
    "## RASCUNHO"
   ]
  },
  {
   "cell_type": "code",
   "execution_count": null,
   "metadata": {},
   "outputs": [],
   "source": [
    "tr_df.filter(F.col('started_at').cast('date').between(lower_bound, upper_bound)) \\\n",
    "    .select(F.col('started_at').cast('date')).distinct().orderBy('started_at',ascending=False).show()"
   ]
  },
  {
   "cell_type": "code",
   "execution_count": null,
   "metadata": {},
   "outputs": [],
   "source": [
    "pd.date_range(start=lower_bound,\n",
    "              end=upper_bound,\n",
    "              freq='d').map(lambda x: datetime.date(x)).tolist()"
   ]
  },
  {
   "cell_type": "code",
   "execution_count": null,
   "metadata": {},
   "outputs": [],
   "source": [
    "filtered_df = tr_df.filter(F.col('started_at').between(lower_bound, upper_bound))"
   ]
  },
  {
   "cell_type": "code",
   "execution_count": null,
   "metadata": {},
   "outputs": [],
   "source": [
    "filtered_df.select(F.col('started_at').cast('date')).distinct().orderBy('started_at', ascending=False).toPandas()['started_at'].tolist()"
   ]
  },
  {
   "cell_type": "code",
   "execution_count": null,
   "metadata": {},
   "outputs": [],
   "source": [
    "dict1 = set(filtered_df.select(F.col('started_at').cast('date')).distinct().toPandas()['started_at'].tolist())\n",
    "dict2 = set(pd.date_range(start=lower_bound,\n",
    "              end=upper_bound,\n",
    "              freq='d').map(lambda x: datetime.date(x)).tolist())\n",
    "dict1 == dict2"
   ]
  },
  {
   "cell_type": "code",
   "execution_count": null,
   "metadata": {},
   "outputs": [],
   "source": [
    "dict1.symmetric_difference(dict2)"
   ]
  },
  {
   "cell_type": "code",
   "execution_count": null,
   "metadata": {},
   "outputs": [],
   "source": [
    "\n",
    "        "
   ]
  },
  {
   "cell_type": "code",
   "execution_count": null,
   "metadata": {},
   "outputs": [],
   "source": [
    "check_interval_integrity(1,tr_df, 'started_at', lower_bound, upper_bound)\n"
   ]
  },
  {
   "cell_type": "code",
   "execution_count": null,
   "metadata": {},
   "outputs": [],
   "source": [
    "upper_bound"
   ]
  },
  {
   "cell_type": "code",
   "execution_count": null,
   "metadata": {},
   "outputs": [],
   "source": [
    "filtered_df = tr_df.filter(F.col('started_at').between(lower_bound, upper_bound))\n"
   ]
  },
  {
   "cell_type": "code",
   "execution_count": null,
   "metadata": {},
   "outputs": [],
   "source": [
    "headers = [\"Column Name\", \"Status\"]\n",
    "data = [['rideable_type', 'OK'],\n",
    "        ['member_casual', 'OK']]\n",
    "format_row = \"{:>15}\" * (len(headers))\n",
    "print(format_row.format(*headers))\n",
    "for team, row in zip(headers, data):\n",
    "    print(format_row.format(*row))"
   ]
  },
  {
   "cell_type": "code",
   "execution_count": null,
   "metadata": {},
   "outputs": [],
   "source": [
    "list(zip(headers, data))"
   ]
  },
  {
   "cell_type": "code",
   "execution_count": null,
   "metadata": {},
   "outputs": [],
   "source": [
    "table_dtypes = df.dtypes\n",
    "list(filter(lambda table_dtypes: table_dtypes[0] == 'rideable_type', table_dtypes))[0][1]"
   ]
  },
  {
   "cell_type": "code",
   "execution_count": null,
   "metadata": {},
   "outputs": [],
   "source": [
    "[dtype for col, dtype in table_dtypes if col == 'rideable_type'][0]"
   ]
  },
  {
   "cell_type": "code",
   "execution_count": null,
   "metadata": {},
   "outputs": [],
   "source": [
    "df.dtypes[0][0] == 'rideable_type'"
   ]
  },
  {
   "cell_type": "code",
   "execution_count": null,
   "metadata": {},
   "outputs": [],
   "source": [
    "search_values = {\n",
    "    'rideable_type': ['classic_bike', 'electric_bike'],\n",
    "    'member_casual': ['casual', 'member']\n",
    "}"
   ]
  },
  {
   "cell_type": "code",
   "execution_count": null,
   "metadata": {},
   "outputs": [],
   "source": [
    "filtered_df.select(F.col('started_at').cast('date')).distinct().count()"
   ]
  },
  {
   "cell_type": "code",
   "execution_count": null,
   "metadata": {},
   "outputs": [],
   "source": [
    "tr_df.filter(F.col('started_at').between(lower_bound, upper_bound)) \\\n",
    "    .select(F.col('started_at').cast('date')).distinct().count()"
   ]
  },
  {
   "cell_type": "code",
   "execution_count": null,
   "metadata": {},
   "outputs": [],
   "source": [
    "from pyspark.sql import functions as F"
   ]
  },
  {
   "cell_type": "code",
   "execution_count": null,
   "metadata": {},
   "outputs": [],
   "source": [
    "def check_ingestion_day(df, date_column, day):\n",
    "    return df.filter(F.col(date_column).cast('date') == day).count()"
   ]
  },
  {
   "cell_type": "code",
   "execution_count": null,
   "metadata": {},
   "outputs": [],
   "source": [
    "check_ingestion_day(tr_df, 'started_at', dhz.date_(2023, 3, 16))"
   ]
  },
  {
   "cell_type": "code",
   "execution_count": null,
   "metadata": {},
   "outputs": [],
   "source": []
  }
 ],
 "metadata": {
  "kernelspec": {
   "display_name": "Python 3",
   "language": "python",
   "name": "python3"
  },
  "language_info": {
   "codemirror_mode": {
    "name": "ipython",
    "version": 3
   },
   "file_extension": ".py",
   "mimetype": "text/x-python",
   "name": "python",
   "nbconvert_exporter": "python",
   "pygments_lexer": "ipython3",
   "version": "3.10.9"
  }
 },
 "nbformat": 4,
 "nbformat_minor": 2
}
